{
 "cells": [
  {
   "cell_type": "code",
   "execution_count": 1,
   "metadata": {},
   "outputs": [],
   "source": [
    "import pandas as pd\n",
    "import numpy as np\n",
    "import warnings\n",
    "import sys\n",
    "import os\n",
    "% % capture\n",
    "!pip install autogluon.tabular\n",
    "!pip install pytest-warnings\n",
    "\n",
    "warnings.filterwarnings('ignore')\n"
   ]
  },
  {
   "attachments": {},
   "cell_type": "markdown",
   "metadata": {},
   "source": [
    "# data preprocess\n",
    "note  : still need to load in training dataset for data preprocess!"
   ]
  },
  {
   "attachments": {},
   "cell_type": "markdown",
   "metadata": {},
   "source": [
    "### load in test data"
   ]
  },
  {
   "cell_type": "code",
   "execution_count": 2,
   "metadata": {},
   "outputs": [],
   "source": [
    "train = pd.read_csv('./tabular-playground-series-aug-2022/train.csv')\n",
    "test_features = pd.read_csv('./tabular-playground-series-aug-2022/test.csv')\n",
    "train_features = train.iloc[0:, 0:-1]\n",
    "all_features = pd.concat([train_features, test_features])\n",
    "\n",
    "all_features['m_3_missing'] = all_features.measurement_3.isna()\n",
    "all_features['m_5_missing'] = all_features.measurement_5.isna()\n",
    "null_features = [\n",
    "    col for col in all_features.columns if all_features[col].isnull().sum() != 0]\n",
    "nonull_features = [\n",
    "    col for col in all_features.columns if col not in null_features]\n",
    "object_features = [\n",
    "    col for col in train.columns if train[col].dtypes == 'object']\n"
   ]
  },
  {
   "attachments": {},
   "cell_type": "markdown",
   "metadata": {},
   "source": [
    "### fill in missing values"
   ]
  },
  {
   "cell_type": "code",
   "execution_count": 3,
   "metadata": {},
   "outputs": [
    {
     "name": "stdout",
     "output_type": "stream",
     "text": [
      "fatal: destination path 'kuma_utils' already exists and is not an empty directory.\n"
     ]
    }
   ],
   "source": [
    "from kuma_utils.preprocessing.imputer import LGBMImputer\n",
    "!git clone https: // github.com/analokmaus/kuma_utils.git\n",
    "sys.path.append(\"kuma_utils/\")\n"
   ]
  },
  {
   "cell_type": "code",
   "execution_count": 4,
   "metadata": {},
   "outputs": [
    {
     "data": {
      "text/plain": [
       "array(['A', 'B', 'C', 'D', 'E', 'F', 'G', 'H', 'I'], dtype=object)"
      ]
     },
     "metadata": {},
     "output_type": "display_data"
    }
   ],
   "source": [
    "display(all_features['product_code'].unique())\n",
    "df_A = all_features[all_features['product_code'] == 'A']\n",
    "df_B = all_features[all_features['product_code'] == 'B']\n",
    "df_C = all_features[all_features['product_code'] == 'C']\n",
    "df_D = all_features[all_features['product_code'] == 'D']\n",
    "df_E = all_features[all_features['product_code'] == 'E']\n",
    "df_F = all_features[all_features['product_code'] == 'F']\n",
    "df_G = all_features[all_features['product_code'] == 'G']\n",
    "df_H = all_features[all_features['product_code'] == 'H']\n",
    "df_I = all_features[all_features['product_code'] == 'I']\n"
   ]
  },
  {
   "cell_type": "code",
   "execution_count": 5,
   "metadata": {},
   "outputs": [
    {
     "data": {
      "application/vnd.jupyter.widget-view+json": {
       "model_id": "f13e370c1f9a4012989e302e1bd8a5c7",
       "version_major": 2,
       "version_minor": 0
      },
      "text/plain": [
       "  0%|          | 0/16 [00:00<?, ?it/s]"
      ]
     },
     "metadata": {},
     "output_type": "display_data"
    },
    {
     "data": {
      "application/vnd.jupyter.widget-view+json": {
       "model_id": "27e140b716974564814becdb56183e10",
       "version_major": 2,
       "version_minor": 0
      },
      "text/plain": [
       "  0%|          | 0/16 [00:00<?, ?it/s]"
      ]
     },
     "metadata": {},
     "output_type": "display_data"
    },
    {
     "data": {
      "application/vnd.jupyter.widget-view+json": {
       "model_id": "6aa637684ea244e48975e7089d02275f",
       "version_major": 2,
       "version_minor": 0
      },
      "text/plain": [
       "  0%|          | 0/16 [00:00<?, ?it/s]"
      ]
     },
     "metadata": {},
     "output_type": "display_data"
    },
    {
     "data": {
      "application/vnd.jupyter.widget-view+json": {
       "model_id": "7f033a9da2f148a8aaba90d2c747af9f",
       "version_major": 2,
       "version_minor": 0
      },
      "text/plain": [
       "  0%|          | 0/16 [00:00<?, ?it/s]"
      ]
     },
     "metadata": {},
     "output_type": "display_data"
    },
    {
     "data": {
      "application/vnd.jupyter.widget-view+json": {
       "model_id": "b94ce8652275412994c34327e85bec67",
       "version_major": 2,
       "version_minor": 0
      },
      "text/plain": [
       "  0%|          | 0/16 [00:00<?, ?it/s]"
      ]
     },
     "metadata": {},
     "output_type": "display_data"
    },
    {
     "data": {
      "application/vnd.jupyter.widget-view+json": {
       "model_id": "4c20e723fff14d74930d4925e8dd12d8",
       "version_major": 2,
       "version_minor": 0
      },
      "text/plain": [
       "  0%|          | 0/16 [00:00<?, ?it/s]"
      ]
     },
     "metadata": {},
     "output_type": "display_data"
    },
    {
     "data": {
      "application/vnd.jupyter.widget-view+json": {
       "model_id": "133cb470d2554e739a82b0292ed84e4b",
       "version_major": 2,
       "version_minor": 0
      },
      "text/plain": [
       "  0%|          | 0/16 [00:00<?, ?it/s]"
      ]
     },
     "metadata": {},
     "output_type": "display_data"
    },
    {
     "data": {
      "application/vnd.jupyter.widget-view+json": {
       "model_id": "9946b5d16c7c4fc19e291fd3b568a362",
       "version_major": 2,
       "version_minor": 0
      },
      "text/plain": [
       "  0%|          | 0/16 [00:00<?, ?it/s]"
      ]
     },
     "metadata": {},
     "output_type": "display_data"
    },
    {
     "data": {
      "application/vnd.jupyter.widget-view+json": {
       "model_id": "d416c5c3173c4ffabadace24693137e3",
       "version_major": 2,
       "version_minor": 0
      },
      "text/plain": [
       "  0%|          | 0/16 [00:00<?, ?it/s]"
      ]
     },
     "metadata": {},
     "output_type": "display_data"
    }
   ],
   "source": [
    "lgbm_imtr = LGBMImputer(cat_features=object_features, n_iter=50)\n",
    "\n",
    "# train dataset\n",
    "train_iterimp_A = lgbm_imtr.fit_transform(df_A[null_features])\n",
    "train_iterimp_B = lgbm_imtr.fit_transform(df_B[null_features])\n",
    "train_iterimp_C = lgbm_imtr.fit_transform(df_C[null_features])\n",
    "train_iterimp_D = lgbm_imtr.fit_transform(df_D[null_features])\n",
    "train_iterimp_E = lgbm_imtr.fit_transform(df_E[null_features])\n",
    "\n",
    "# test dataset\n",
    "test_iterimp_F = lgbm_imtr.fit_transform(df_F[null_features])\n",
    "test_iterimp_G = lgbm_imtr.fit_transform(df_G[null_features])\n",
    "test_iterimp_H = lgbm_imtr.fit_transform(df_H[null_features])\n",
    "test_iterimp_I = lgbm_imtr.fit_transform(df_I[null_features])\n"
   ]
  },
  {
   "cell_type": "code",
   "execution_count": 6,
   "metadata": {},
   "outputs": [
    {
     "name": "stdout",
     "output_type": "stream",
     "text": [
      "Missing values in train dataset after pre-peocessing is:  0\n"
     ]
    }
   ],
   "source": [
    "all_features_ = pd.concat([train_iterimp_A, train_iterimp_B, train_iterimp_C, train_iterimp_D,\n",
    "                           train_iterimp_E, test_iterimp_F, test_iterimp_G, test_iterimp_H, test_iterimp_I\n",
    "                           ])\n",
    "all_features = pd.concat(\n",
    "    [all_features_, all_features[nonull_features]], axis=1)\n",
    "print(\"Missing values in train dataset after pre-peocessing is: \",\n",
    "      format(all_features.isna().sum().sum()))\n"
   ]
  },
  {
   "attachments": {},
   "cell_type": "markdown",
   "metadata": {},
   "source": [
    "### choose columns"
   ]
  },
  {
   "cell_type": "code",
   "execution_count": 7,
   "metadata": {},
   "outputs": [],
   "source": [
    "all_features['a_2*3'] = all_features['attribute_2'] * \\\n",
    "    all_features['attribute_3']\n",
    "\n",
    "meas_gr1_cols = [f\"measurement_{i:d}\" for i in list(\n",
    "    range(3, 5)) + list(range(9, 17))]\n",
    "all_features['meas_gr1_avg'] = np.mean(all_features[meas_gr1_cols], axis=1)\n",
    "all_features['meas_gr1_std'] = np.std(all_features[meas_gr1_cols], axis=1)\n",
    "\n",
    "meas_gr2_cols = [f\"measurement_{i:d}\" for i in list(range(5, 9))]\n",
    "all_features['meas_gr2_avg'] = np.mean(all_features[meas_gr2_cols], axis=1)\n",
    "all_features['meas_gr2_avg'] = np.mean(all_features[meas_gr2_cols], axis=1)\n",
    "\n",
    "all_features['meas17/meas_gr2_avg'] = all_features['measurement_17'] / \\\n",
    "    all_features['meas_gr2_avg']\n"
   ]
  },
  {
   "cell_type": "code",
   "execution_count": 8,
   "metadata": {},
   "outputs": [],
   "source": [
    "cols_to_use = ['attribute_0', 'measurement_0', 'measurement_1', 'measurement_2', 'attribute_1', 'm_3_missing', 'm_5_missing',\n",
    "               'meas_gr1_avg', 'meas_gr1_std', 'a_2*3', 'loading', 'measurement_17', 'meas17/meas_gr2_avg']\n",
    "all_features = all_features[cols_to_use]\n",
    "all_features = pd.get_dummies(\n",
    "    all_features, columns=['attribute_0', 'attribute_1'])\n"
   ]
  },
  {
   "attachments": {},
   "cell_type": "markdown",
   "metadata": {},
   "source": [
    "# load in model and test"
   ]
  },
  {
   "cell_type": "code",
   "execution_count": 9,
   "metadata": {},
   "outputs": [],
   "source": [
    "from autogluon.tabular import TabularPredictor, TabularDataset\n"
   ]
  },
  {
   "cell_type": "code",
   "execution_count": 10,
   "metadata": {},
   "outputs": [],
   "source": [
    "test = all_features.iloc[26570:]  # 26570 是 labels.shape[0]\n",
    "test = TabularDataset(test)\n"
   ]
  },
  {
   "cell_type": "code",
   "execution_count": 11,
   "metadata": {},
   "outputs": [
    {
     "data": {
      "text/html": [
       "<div>\n",
       "<style scoped>\n",
       "    .dataframe tbody tr th:only-of-type {\n",
       "        vertical-align: middle;\n",
       "    }\n",
       "\n",
       "    .dataframe tbody tr th {\n",
       "        vertical-align: top;\n",
       "    }\n",
       "\n",
       "    .dataframe thead th {\n",
       "        text-align: right;\n",
       "    }\n",
       "</style>\n",
       "<table border=\"1\" class=\"dataframe\">\n",
       "  <thead>\n",
       "    <tr style=\"text-align: right;\">\n",
       "      <th></th>\n",
       "      <th>id</th>\n",
       "      <th>failure</th>\n",
       "    </tr>\n",
       "  </thead>\n",
       "  <tbody>\n",
       "    <tr>\n",
       "      <th>0</th>\n",
       "      <td>26570</td>\n",
       "      <td>0.197063</td>\n",
       "    </tr>\n",
       "    <tr>\n",
       "      <th>1</th>\n",
       "      <td>26571</td>\n",
       "      <td>0.168523</td>\n",
       "    </tr>\n",
       "    <tr>\n",
       "      <th>2</th>\n",
       "      <td>26572</td>\n",
       "      <td>0.194533</td>\n",
       "    </tr>\n",
       "    <tr>\n",
       "      <th>3</th>\n",
       "      <td>26573</td>\n",
       "      <td>0.187086</td>\n",
       "    </tr>\n",
       "    <tr>\n",
       "      <th>4</th>\n",
       "      <td>26574</td>\n",
       "      <td>0.309533</td>\n",
       "    </tr>\n",
       "    <tr>\n",
       "      <th>...</th>\n",
       "      <td>...</td>\n",
       "      <td>...</td>\n",
       "    </tr>\n",
       "    <tr>\n",
       "      <th>20770</th>\n",
       "      <td>47340</td>\n",
       "      <td>0.236613</td>\n",
       "    </tr>\n",
       "    <tr>\n",
       "      <th>20771</th>\n",
       "      <td>47341</td>\n",
       "      <td>0.136116</td>\n",
       "    </tr>\n",
       "    <tr>\n",
       "      <th>20772</th>\n",
       "      <td>47342</td>\n",
       "      <td>0.148281</td>\n",
       "    </tr>\n",
       "    <tr>\n",
       "      <th>20773</th>\n",
       "      <td>47343</td>\n",
       "      <td>0.223224</td>\n",
       "    </tr>\n",
       "    <tr>\n",
       "      <th>20774</th>\n",
       "      <td>47344</td>\n",
       "      <td>0.154063</td>\n",
       "    </tr>\n",
       "  </tbody>\n",
       "</table>\n",
       "<p>20775 rows × 2 columns</p>\n",
       "</div>"
      ],
      "text/plain": [
       "          id   failure\n",
       "0      26570  0.197063\n",
       "1      26571  0.168523\n",
       "2      26572  0.194533\n",
       "3      26573  0.187086\n",
       "4      26574  0.309533\n",
       "...      ...       ...\n",
       "20770  47340  0.236613\n",
       "20771  47341  0.136116\n",
       "20772  47342  0.148281\n",
       "20773  47343  0.223224\n",
       "20774  47344  0.154063\n",
       "\n",
       "[20775 rows x 2 columns]"
      ]
     },
     "metadata": {},
     "output_type": "display_data"
    }
   ],
   "source": [
    "predictor = TabularPredictor.load(\"AutogluonModels/ag-20230107_133316/\")\n",
    "pred_test = predictor.predict_proba(test, as_pandas=False, as_multiclass=False)\n",
    "list = [i for i in range(26570, len(pred_test) + 26570)\n",
    "        ]  # 26570 是 train.shape[0]\n",
    "sub = pd.DataFrame({'id': list, 'failure': pred_test})\n",
    "sub.to_csv('submission.csv', index=False)\n",
    "display(sub)\n"
   ]
  }
 ],
 "metadata": {
  "kernelspec": {
   "display_name": "Python 3",
   "language": "python",
   "name": "python3"
  },
  "language_info": {
   "codemirror_mode": {
    "name": "ipython",
    "version": 3
   },
   "file_extension": ".py",
   "mimetype": "text/x-python",
   "name": "python",
   "nbconvert_exporter": "python",
   "pygments_lexer": "ipython3",
   "version": "3.8.10 (default, Jun 22 2022, 20:18:18) \n[GCC 9.4.0]"
  },
  "orig_nbformat": 4,
  "vscode": {
   "interpreter": {
    "hash": "916dbcbb3f70747c44a77c7bcd40155683ae19c65e1c03b4aa3499c5328201f1"
   }
  }
 },
 "nbformat": 4,
 "nbformat_minor": 2
}
